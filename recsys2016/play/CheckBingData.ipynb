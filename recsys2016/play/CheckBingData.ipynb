{
 "cells": [
  {
   "cell_type": "code",
   "execution_count": 1,
   "metadata": {
    "collapsed": true
   },
   "outputs": [],
   "source": [
    "import json"
   ]
  },
  {
   "cell_type": "code",
   "execution_count": 6,
   "metadata": {
    "collapsed": false
   },
   "outputs": [
    {
     "name": "stdout",
     "output_type": "stream",
     "text": [
      "Loaded 77445 businesses\n"
     ]
    }
   ],
   "source": [
    "businesses = dict()\n",
    "\n",
    "with open('../../data/YELP_DATASET/yelp_dataset_challenge_academic_dataset/yelp_academic_dataset_business.json') as f:\n",
    "    for i, line in enumerate(f):\n",
    "        l = json.loads(line)\n",
    "        businesses[l['business_id']] = l['categories']\n",
    "#         if i > 100:\n",
    "#             break\n",
    "\n",
    "print('Loaded %d businesses'%len(businesses))"
   ]
  },
  {
   "cell_type": "code",
   "execution_count": 13,
   "metadata": {
    "collapsed": false
   },
   "outputs": [
    {
     "name": "stdout",
     "output_type": "stream",
     "text": [
      "0\n",
      "50000\n",
      "100000\n",
      "150000\n",
      "200000\n",
      "250000\n",
      "300000\n",
      "350000\n",
      "400000\n",
      "450000\n",
      "500000\n",
      "550000\n",
      "600000\n",
      "650000\n",
      "700000\n",
      "750000\n",
      "800000\n",
      "850000\n",
      "900000\n",
      "950000\n",
      "1000000\n",
      "1050000\n",
      "1100000\n",
      "1150000\n",
      "1200000\n",
      "1250000\n",
      "1300000\n",
      "1350000\n",
      "1400000\n",
      "1450000\n",
      "1500000\n",
      "1550000\n",
      "1600000\n",
      "1650000\n",
      "1700000\n",
      "1750000\n",
      "1800000\n",
      "1850000\n",
      "1900000\n",
      "1950000\n",
      "2000000\n",
      "2050000\n",
      "2100000\n",
      "2150000\n",
      "2200000\n"
     ]
    }
   ],
   "source": [
    "categories = dict()\n",
    "\n",
    "with open('../../data/YELP_DATASET/yelp_dataset_challenge_academic_dataset/yelp_academic_dataset_review.json') as f:\n",
    "    for i, line in enumerate(f):\n",
    "        l = json.loads(line)\n",
    "        bus_id = l['business_id']\n",
    "        if bus_id in businesses:\n",
    "            for cat in businesses[bus_id]:\n",
    "                categories[cat] = categories.get(cat,0)\n",
    "                categories[cat] += 1\n",
    "        if i%50000 == 0:\n",
    "            print(i)"
   ]
  },
  {
   "cell_type": "code",
   "execution_count": 20,
   "metadata": {
    "collapsed": false
   },
   "outputs": [
    {
     "name": "stdout",
     "output_type": "stream",
     "text": [
      "Italian\t113923\n",
      "Hotels\t97720\n",
      "Shopping\t125180\n",
      "American (New)\t173835\n",
      "Restaurants\t1363242\n",
      "Nightlife\t292344\n",
      "Bars\t257215\n",
      "Arts & Entertainment\t142753\n",
      "Breakfast & Brunch\t134228\n",
      "Event Planning & Services\t127752\n",
      "Hotels & Travel\t126636\n",
      "American (Traditional)\t170018\n",
      "Mexican\t135773\n",
      "Food\t266272\n",
      "Pizza\t115509\n",
      "Beauty & Spas\t109312\n"
     ]
    }
   ],
   "source": [
    "for cat in categories:\n",
    "    if categories[cat]>90000:\n",
    "        print('%s\\t%d'%(cat,categories[cat]))"
   ]
  },
  {
   "cell_type": "code",
   "execution_count": 19,
   "metadata": {
    "collapsed": false
   },
   "outputs": [
    {
     "name": "stdout",
     "output_type": "stream",
     "text": [
      "2225212\n"
     ]
    }
   ],
   "source": [
    "print(i)"
   ]
  }
 ],
 "metadata": {
  "kernelspec": {
   "display_name": "Python 3",
   "language": "python",
   "name": "python3"
  },
  "language_info": {
   "codemirror_mode": {
    "name": "ipython",
    "version": 3
   },
   "file_extension": ".py",
   "mimetype": "text/x-python",
   "name": "python",
   "nbconvert_exporter": "python",
   "pygments_lexer": "ipython3",
   "version": "3.5.1"
  }
 },
 "nbformat": 4,
 "nbformat_minor": 0
}
