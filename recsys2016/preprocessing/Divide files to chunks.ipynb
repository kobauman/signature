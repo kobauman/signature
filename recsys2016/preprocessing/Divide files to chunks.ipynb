{
 "cells": [
  {
   "cell_type": "code",
   "execution_count": 1,
   "metadata": {
    "collapsed": true
   },
   "outputs": [],
   "source": [
    "import os\n",
    "\n",
    "\n",
    "train_data_path = \"../../../data/YELP_DATASET/yelp_dataset_challenge_academic_dataset/\""
   ]
  },
  {
   "cell_type": "code",
   "execution_count": 8,
   "metadata": {
    "collapsed": true
   },
   "outputs": [],
   "source": [
    "name = 'a.txt'"
   ]
  },
  {
   "cell_type": "code",
   "execution_count": 13,
   "metadata": {
    "collapsed": true
   },
   "outputs": [],
   "source": [
    "name = 'yelp_reviews_restaurant.txt'"
   ]
  },
  {
   "cell_type": "code",
   "execution_count": 19,
   "metadata": {
    "collapsed": false
   },
   "outputs": [
    {
     "name": "stdout",
     "output_type": "stream",
     "text": [
      "21\n"
     ]
    }
   ],
   "source": [
    "name1, name2 = name.split('.')\n",
    "chunksize = 560000\n",
    "with open(train_data_path+name,'r') as f:\n",
    "    name_i = 1\n",
    "    line_i = 0\n",
    "    current_file = open('%s%s_%d.%s'%(train_data_path,name1,name_i,name2),'w')\n",
    "    for line in f:\n",
    "        line_i += 1\n",
    "        if line_i > chunksize:\n",
    "            current_file.close()\n",
    "            name_i += 1\n",
    "            current_file = open('%s%s_%d.%s'%(train_data_path,name1,name_i,name2),'w')\n",
    "            line_i = 0\n",
    "        current_file.write(line)\n",
    "    current_file.close()\n",
    "print(name_i)"
   ]
  },
  {
   "cell_type": "code",
   "execution_count": null,
   "metadata": {
    "collapsed": true
   },
   "outputs": [],
   "source": []
  }
 ],
 "metadata": {
  "kernelspec": {
   "display_name": "Python 3",
   "language": "python",
   "name": "python3"
  },
  "language_info": {
   "codemirror_mode": {
    "name": "ipython",
    "version": 3
   },
   "file_extension": ".py",
   "mimetype": "text/x-python",
   "name": "python",
   "nbconvert_exporter": "python",
   "pygments_lexer": "ipython3",
   "version": "3.5.1"
  }
 },
 "nbformat": 4,
 "nbformat_minor": 0
}
